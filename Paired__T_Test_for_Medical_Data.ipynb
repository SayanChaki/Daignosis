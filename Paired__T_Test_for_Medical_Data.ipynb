{
  "nbformat": 4,
  "nbformat_minor": 0,
  "metadata": {
    "colab": {
      "name": "Paired_ T-Test for Medical Data.ipynb",
      "provenance": [],
      "collapsed_sections": []
    },
    "kernelspec": {
      "name": "python3",
      "display_name": "Python 3"
    },
    "language_info": {
      "name": "python"
    }
  },
  "cells": [
    {
      "cell_type": "markdown",
      "source": [
        "Comparison of Credits (Categorical Data), pre and post training. Score A represents Credits pre training, score B represents Data post training."
      ],
      "metadata": {
        "id": "2Bwj7Sa1U9nL"
      }
    },
    {
      "cell_type": "markdown",
      "source": [
        "H0 : The Mean difference between the two datasets is zero\n",
        "\n",
        "H1: The Mean difference between the first dataset vs the second is greater than zero"
      ],
      "metadata": {
        "id": "NdEfT_dPeHur"
      }
    },
    {
      "cell_type": "code",
      "source": [
        "from google.colab import drive\n",
        "drive.mount('/content/gdrive')"
      ],
      "metadata": {
        "colab": {
          "base_uri": "https://localhost:8080/",
          "height": 0
        },
        "id": "xoxO3WcPVHW-",
        "outputId": "1df6221f-e1e3-4222-90d3-1cf3864af23d"
      },
      "execution_count": 3,
      "outputs": [
        {
          "output_type": "stream",
          "name": "stdout",
          "text": [
            "Mounted at /content/gdrive\n"
          ]
        }
      ]
    },
    {
      "cell_type": "code",
      "source": [
        "import pandas as pd\n",
        "import io\n",
        "\n",
        "df = pd.read_csv('Book1.csv')\n"
      ],
      "metadata": {
        "id": "mz-BRGDBVZvm"
      },
      "execution_count": 70,
      "outputs": []
    },
    {
      "cell_type": "code",
      "source": [
        "before_exp = df.iloc[:,[2]]"
      ],
      "metadata": {
        "id": "zqtAPTKIW4og"
      },
      "execution_count": 12,
      "outputs": []
    },
    {
      "cell_type": "code",
      "source": [
        "after_exp = df.iloc[:,[3]]\n"
      ],
      "metadata": {
        "id": "FqPOsfLVXWN2"
      },
      "execution_count": 13,
      "outputs": []
    },
    {
      "cell_type": "code",
      "source": [
        "first_test=[]\n",
        "first_test=before_exp\n",
        "\n",
        "second_test =[]\n",
        "second_test=after_exp"
      ],
      "metadata": {
        "id": "kP6_veWxYAT8"
      },
      "execution_count": 14,
      "outputs": []
    },
    {
      "cell_type": "markdown",
      "source": [
        "**Now We Shall be Calculating the P value using Paired T Test**\n",
        "\n",
        "---\n",
        "\n"
      ],
      "metadata": {
        "id": "N1g8-AikVnxB"
      }
    },
    {
      "cell_type": "code",
      "source": [
        "from scipy import stats\n",
        "\n",
        "t_value,p_value=stats.ttest_rel(first_test,second_test)\n",
        "\n",
        "one_tailed_p_value = float(p_value/2)\n",
        "print(one_tailed_p_value/2)\n",
        "\n",
        "print('Test statistic is %f'%(t_value))\n",
        "\n",
        "print('p-value for one_tailed_test is')\n",
        "print(one_tailed_p_value/2)\n",
        "\n",
        "alpha = 0.05\n",
        "\n",
        "if one_tailed_p_value<=alpha:\n",
        "\n",
        "    print('Conclusion','n','Since p-value<','alpha(=%.2f)'%alpha,'''We reject the null hypothesis H0. So we conclude that the students have benefited by the training class. i.e., d = 0 at %.2f level of significance.'''%alpha)\n",
        "\n",
        "else:\n",
        "\n",
        "    print('Conclusion','n','Since p-value>','alpha(=%.2f)'%alpha,'''We do not reject the null hypothesis H0. So we conclude that the students have not benefited by the training class. i.e., d = 0 at %.2f level of significance.'''%alpha)"
      ],
      "metadata": {
        "colab": {
          "base_uri": "https://localhost:8080/",
          "height": 0
        },
        "id": "DopG0dw2YlO1",
        "outputId": "83775a43-4679-40f9-a907-1b22cb80b9d8"
      },
      "execution_count": 15,
      "outputs": [
        {
          "output_type": "stream",
          "name": "stdout",
          "text": [
            "3.200590736440965e-42\n",
            "Test statistic is -23.074327\n",
            "p-value for one_tailed_test is\n",
            "3.200590736440965e-42\n",
            "Conclusion n Since p-value< alpha(=0.05) We reject the null hypothesis H0. So we conclude that the students have benefited by the training class. i.e., d = 0 at 0.05 level of significance.\n"
          ]
        }
      ]
    },
    {
      "cell_type": "markdown",
      "source": [
        "***The Calculated P- value is 3.200590736440965e-42 which is less than alpha(=0.05). \n",
        "Thus, we reject the null hypothesis H0. So we conclude that the students have benefited by the training class. i.e., d = 0 at 0.05 level of significance.***"
      ],
      "metadata": {
        "id": "36dDbl5qV0w6"
      }
    },
    {
      "cell_type": "markdown",
      "source": [
        "Here we shall construct the Box Plot and Calculate the Mean and Standard Deviation fr Pre & Post Test"
      ],
      "metadata": {
        "id": "qSwsOxlUWKh9"
      }
    },
    {
      "cell_type": "code",
      "source": [
        "import matplotlib.pyplot as plt\n",
        "import numpy as np\n",
        "\n",
        "\n",
        "np.random.seed(10)\n",
        "\n",
        "mean1 = np.mean(before_exp)\n",
        "standard_dev_before = np.std(before_exp)\n",
        "print('mean_pretest', mean1)\n",
        "print(standard_dev_before)\n",
        "data_1 = np.array(before_exp)\n",
        "data_2 = np.random.normal(0, 0, 0)\n",
        "data_3 = np.array(after_exp)\n",
        "\n",
        "mean2 = np.mean(after_exp)\n",
        "standard_dev_after = np.std(after_exp)\n",
        "print(mean2)\n",
        "print(standard_dev_after)\n",
        "\n",
        "data = [data_1, data_2, data_3]\n",
        "\n",
        "fig = plt.figure(figsize =(10, 7))\n",
        "ax = fig.add_axes([0, 0, 1, 1])\n",
        "\n",
        "bp = ax.boxplot(data)\n",
        "\n",
        "plt.show()\n"
      ],
      "metadata": {
        "colab": {
          "base_uri": "https://localhost:8080/",
          "height": 746
        },
        "id": "NBC5HTFQZ6go",
        "outputId": "ffc1f010-5f3a-46b4-f183-280a0278f3b5"
      },
      "execution_count": 72,
      "outputs": [
        {
          "output_type": "stream",
          "name": "stdout",
          "text": [
            "mean_pretest Score A    5.22\n",
            "dtype: float64\n",
            "Score A    1.847052\n",
            "dtype: float64\n",
            "Score B    8.26\n",
            "dtype: float64\n",
            "Score B    1.171495\n",
            "dtype: float64\n"
          ]
        },
        {
          "output_type": "stream",
          "name": "stderr",
          "text": [
            "/usr/local/lib/python3.7/dist-packages/matplotlib/cbook/__init__.py:1376: VisibleDeprecationWarning: Creating an ndarray from ragged nested sequences (which is a list-or-tuple of lists-or-tuples-or ndarrays with different lengths or shapes) is deprecated. If you meant to do this, you must specify 'dtype=object' when creating the ndarray.\n",
            "  X = np.atleast_1d(X.T if isinstance(X, np.ndarray) else np.asarray(X))\n"
          ]
        },
        {
          "output_type": "display_data",
          "data": {
            "text/plain": [
              "<Figure size 720x504 with 1 Axes>"
            ],
            "image/png": "[encoded data removed]"
          },
          "metadata": {
            "needs_background": "light"
          }
        }
      ]
    },
    {
      "cell_type": "markdown",
      "source": [
        "Mean & Standard Deviation Pre Test is : 5.22 (+-) 1.847052\n",
        "Mean & Standard Deviation Post Test is : 8.26 (+-) 1.71495"
      ],
      "metadata": {
        "id": "Vs6dPAmEWU6c"
      }
    },
    {
      "cell_type": "code",
      "source": [
        "import pandas as pd\n",
        "import io\n",
        "\n",
        "df = pd.read_csv('Book21.csv')"
      ],
      "metadata": {
        "id": "4wPeqqvIEb2z"
      },
      "execution_count": 73,
      "outputs": []
    },
    {
      "cell_type": "code",
      "source": [
        "QMS=[]\n",
        "for i in range(1,8):\n",
        "  Q='Q'+str(i)\n",
        "  Qls=df[Q].value_counts()\n",
        "  QMS.append(Qls)"
      ],
      "metadata": {
        "id": "ggZx9EhvKn1C"
      },
      "execution_count": 74,
      "outputs": []
    },
    {
      "cell_type": "code",
      "source": [
        "import numpy as np\n",
        "import matplotlib.pyplot as plt\n",
        "\n",
        "X = ['Q1','Q2','Q3','Q4','Q5','Q6','Q7']\n",
        "Strongly_Agree = [QMS[0][2],QMS[1][2],QMS[2][2],QMS[3][2],QMS[4][2],QMS[5][2],QMS[6][2]]\n",
        "Agree = [QMS[0][1],QMS[1][1],QMS[2][1],QMS[3][1],QMS[4][1],QMS[5][1],QMS[6][1]]\n",
        "Neutral = [QMS[0][0],QMS[1][0],QMS[2][0],QMS[3][0],QMS[4][0],QMS[5][0],QMS[6][0]]\n",
        "Strongly_Disagree = [0,QMS[1][-2],QMS[2][-2],QMS[3][-2],0,QMS[5][-2],QMS[6][-2]]\n",
        "\n",
        "Disagree = [QMS[0][-1],QMS[1][-1],QMS[2][-1],QMS[3][-1],QMS[4][-1],QMS[5][-1],QMS[6][-1]]\n",
        "X_axis = np.arange(len(X))\n",
        "\n",
        "plt.bar(X_axis-0.2, Strongly_Agree,0.1, label = 'Strongly Agree')\n",
        "plt.bar(X_axis-0.1, Agree,0.1,  label = 'Agree')\n",
        "plt.bar(X_axis, Neutral,0.1, label = 'Neutral')\n",
        "plt.bar(X_axis+0.1, Disagree,0.1,  label = 'Disagree')\n",
        "plt.bar(X_axis+0.2, Strongly_Disagree,0.1, label = 'Strongly Diagree')\n",
        "\n",
        "plt.xticks(X_axis, X)\n",
        "plt.xlabel(\"Groups\")\n",
        "plt.ylabel(\"Questions\")\n",
        "plt.title(\"Result of Pilot Survey\")\n",
        "plt.legend()\n",
        "plt.show()\n"
      ],
      "metadata": {
        "colab": {
          "base_uri": "https://localhost:8080/",
          "height": 295
        },
        "id": "O0GJ6MShL0Wz",
        "outputId": "74232b27-64e9-4065-e88f-d4bc4b5b6b1e"
      },
      "execution_count": 76,
      "outputs": [
        {
          "output_type": "display_data",
          "data": {
            "text/plain": [
              "<Figure size 432x288 with 1 Axes>"
            ],
            "image/png": "[encoded data removed]"
          },
          "metadata": {
            "needs_background": "light"
          }
        }
      ]
    },
    {
      "cell_type": "code",
      "source": [
        "import pandas as pd\n",
        "import io\n",
        "\n",
        "df = pd.read_csv('Book3.csv')\n"
      ],
      "metadata": {
        "id": "2RChdKHgMJpW"
      },
      "execution_count": 77,
      "outputs": []
    },
    {
      "cell_type": "code",
      "source": [
        "QPS=[]\n",
        "Qls =df['Q1'].value_counts()\n",
        "QPS.append(Qls)\n",
        "for i in range(2,7):\n",
        "  Q='q'+str(i)\n",
        "  Qls=df[Q].value_counts()\n",
        "  QPS.append(Qls)"
      ],
      "metadata": {
        "id": "RkhVJ-IHTxUU"
      },
      "execution_count": 78,
      "outputs": []
    },
    {
      "cell_type": "code",
      "source": [
        "import numpy as np\n",
        "import matplotlib.pyplot as plt\n",
        "\n",
        "X = ['Q1','Q2','Q3','Q4','Q5','Q6']\n",
        "Strongly_Agree = [QPS[0][2],QPS[1][2],QPS[2][2],QPS[3][2],QPS[4][2],QPS[5][2]]\n",
        "Agree = [QPS[0][1],QPS[1][1],QPS[2][1],QPS[3][1],QPS[4][1],QPS[5][1]]\n",
        "Neutral = [0,QPS[1][2],0,QPS[3][2],QPS[4][2],QPS[5][2]]\n",
        "Disagree = [0,0,0,0,0,QPS[5][2]]\n",
        "X_axis = np.arange(len(X))\n",
        "\n",
        "plt.bar(X_axis-0.2, Strongly_Agree,0.1, label = 'Strongly Agree')\n",
        "plt.bar(X_axis-0.1, Agree,0.1,  label = 'Agree')\n",
        "plt.bar(X_axis, Neutral,0.1, label = 'Neutral')\n",
        "plt.bar(X_axis+0.1, Disagree,0.1,  label = 'Disagree')\n",
        "\n",
        "plt.xticks(X_axis, X)\n",
        "plt.xlabel(\"Groups\")\n",
        "plt.ylabel(\"Questions\")\n",
        "plt.title(\"Result of Pilot Survey\")\n",
        "plt.legend()\n",
        "plt.show()\n"
      ],
      "metadata": {
        "colab": {
          "base_uri": "https://localhost:8080/",
          "height": 295
        },
        "id": "hLESdbkdUPYu",
        "outputId": "5b3489b5-e07b-4b5b-e2d9-7c03fa31d3c5"
      },
      "execution_count": 79,
      "outputs": [
        {
          "output_type": "display_data",
          "data": {
            "text/plain": [
              "<Figure size 432x288 with 1 Axes>"
            ],
            "image/png": "[encoded data removed]"
          },
          "metadata": {
            "needs_background": "light"
          }
        }
      ]
    },
    {
      "cell_type": "code",
      "source": [
        ""
      ],
      "metadata": {
        "id": "XvKw5vmdVQLw"
      },
      "execution_count": null,
      "outputs": []
    }
  ]
}